{
 "cells": [
  {
   "cell_type": "code",
   "execution_count": 1,
   "id": "aging-building",
   "metadata": {
    "id": "aging-building"
   },
   "outputs": [],
   "source": [
    "import pandas as pd\n",
    "import numpy as np\n",
    "from sklearn.preprocessing import MinMaxScaler\n",
    "import matplotlib.pyplot as plt\n",
    "from plotly.subplots import make_subplots\n",
    "import plotly.graph_objects as go\n",
    "from sklearn.cluster import Birch\n",
    "from numpy import unique\n",
    "from numpy import where\n",
    "from matplotlib import pyplot\n",
    "from scipy import optimize\n",
    "import pylab as pl\n",
    "from itertools import chain\n",
    "import warnings\n",
    "from time import time\n",
    "import yfinance as yf\n",
    "\n",
    "warnings.filterwarnings(\"ignore\")"
   ]
  },
  {
   "cell_type": "markdown",
   "id": "headed-spank",
   "metadata": {
    "id": "headed-spank"
   },
   "source": [
    "# importing dataset"
   ]
  },
  {
   "cell_type": "code",
   "execution_count": 2,
   "id": "unique-wheel",
   "metadata": {
    "id": "unique-wheel"
   },
   "outputs": [],
   "source": [
    "stock_names=['DIS', 'GOOG', 'GOOGL', 'VIAC', 'TMUS', 'TTWO', 'LYV', 'IPG', 'NFLX', 'EA',\n",
    " 'ATVI', 'CMCSA', 'CHTR', 'DISH', 'LUMN', 'OMC', 'T', 'DISCA', 'VZ', 'DISCK']\n",
    "\n",
    "y={}\n",
    "for i in stock_names:\n",
    "    y[i]=pd.read_csv(\"{}.csv\".format(i))\n",
    "    y[i] = y[i].iloc[: , 1:]\n",
    "df=pd.concat(y, axis=1)\n",
    "df=df.reset_index()"
   ]
  },
  {
   "cell_type": "markdown",
   "id": "happy-popularity",
   "metadata": {},
   "source": [
    "# Adding a new price feature"
   ]
  },
  {
   "cell_type": "code",
   "execution_count": 28,
   "id": "complex-profit",
   "metadata": {},
   "outputs": [
    {
     "data": {
      "text/html": [
       "<div>\n",
       "<style scoped>\n",
       "    .dataframe tbody tr th:only-of-type {\n",
       "        vertical-align: middle;\n",
       "    }\n",
       "\n",
       "    .dataframe tbody tr th {\n",
       "        vertical-align: top;\n",
       "    }\n",
       "\n",
       "    .dataframe thead th {\n",
       "        text-align: right;\n",
       "    }\n",
       "</style>\n",
       "<table border=\"1\" class=\"dataframe\">\n",
       "  <thead>\n",
       "    <tr style=\"text-align: right;\">\n",
       "      <th></th>\n",
       "      <th>VZ</th>\n",
       "      <th>TTWO</th>\n",
       "      <th>LUMN</th>\n",
       "      <th>DISH</th>\n",
       "      <th>NFLX</th>\n",
       "      <th>EA</th>\n",
       "    </tr>\n",
       "  </thead>\n",
       "  <tbody>\n",
       "    <tr>\n",
       "      <th>0</th>\n",
       "      <td>NaN</td>\n",
       "      <td>NaN</td>\n",
       "      <td>NaN</td>\n",
       "      <td>NaN</td>\n",
       "      <td>NaN</td>\n",
       "      <td>NaN</td>\n",
       "    </tr>\n",
       "    <tr>\n",
       "      <th>1</th>\n",
       "      <td>NaN</td>\n",
       "      <td>NaN</td>\n",
       "      <td>NaN</td>\n",
       "      <td>NaN</td>\n",
       "      <td>NaN</td>\n",
       "      <td>NaN</td>\n",
       "    </tr>\n",
       "    <tr>\n",
       "      <th>2</th>\n",
       "      <td>NaN</td>\n",
       "      <td>NaN</td>\n",
       "      <td>NaN</td>\n",
       "      <td>NaN</td>\n",
       "      <td>NaN</td>\n",
       "      <td>NaN</td>\n",
       "    </tr>\n",
       "    <tr>\n",
       "      <th>3</th>\n",
       "      <td>NaN</td>\n",
       "      <td>NaN</td>\n",
       "      <td>NaN</td>\n",
       "      <td>NaN</td>\n",
       "      <td>NaN</td>\n",
       "      <td>NaN</td>\n",
       "    </tr>\n",
       "    <tr>\n",
       "      <th>4</th>\n",
       "      <td>NaN</td>\n",
       "      <td>NaN</td>\n",
       "      <td>NaN</td>\n",
       "      <td>NaN</td>\n",
       "      <td>NaN</td>\n",
       "      <td>NaN</td>\n",
       "    </tr>\n",
       "    <tr>\n",
       "      <th>...</th>\n",
       "      <td>...</td>\n",
       "      <td>...</td>\n",
       "      <td>...</td>\n",
       "      <td>...</td>\n",
       "      <td>...</td>\n",
       "      <td>...</td>\n",
       "    </tr>\n",
       "    <tr>\n",
       "      <th>2512</th>\n",
       "      <td>-0.321001</td>\n",
       "      <td>-0.196008</td>\n",
       "      <td>-0.3030</td>\n",
       "      <td>1.488501</td>\n",
       "      <td>-14.831511</td>\n",
       "      <td>2.603499</td>\n",
       "    </tr>\n",
       "    <tr>\n",
       "      <th>2513</th>\n",
       "      <td>0.098001</td>\n",
       "      <td>-5.066502</td>\n",
       "      <td>-0.3925</td>\n",
       "      <td>1.602499</td>\n",
       "      <td>-11.705525</td>\n",
       "      <td>-0.664008</td>\n",
       "    </tr>\n",
       "    <tr>\n",
       "      <th>2514</th>\n",
       "      <td>-0.375999</td>\n",
       "      <td>-0.945502</td>\n",
       "      <td>-0.4735</td>\n",
       "      <td>1.089499</td>\n",
       "      <td>-10.605510</td>\n",
       "      <td>0.992997</td>\n",
       "    </tr>\n",
       "    <tr>\n",
       "      <th>2515</th>\n",
       "      <td>-0.113501</td>\n",
       "      <td>-1.883996</td>\n",
       "      <td>-0.5025</td>\n",
       "      <td>0.888999</td>\n",
       "      <td>-14.957497</td>\n",
       "      <td>0.835504</td>\n",
       "    </tr>\n",
       "    <tr>\n",
       "      <th>2516</th>\n",
       "      <td>-0.288001</td>\n",
       "      <td>1.823497</td>\n",
       "      <td>-0.5390</td>\n",
       "      <td>0.596499</td>\n",
       "      <td>-10.838991</td>\n",
       "      <td>1.324506</td>\n",
       "    </tr>\n",
       "  </tbody>\n",
       "</table>\n",
       "<p>2517 rows × 6 columns</p>\n",
       "</div>"
      ],
      "text/plain": [
       "            VZ      TTWO    LUMN      DISH       NFLX        EA\n",
       "0          NaN       NaN     NaN       NaN        NaN       NaN\n",
       "1          NaN       NaN     NaN       NaN        NaN       NaN\n",
       "2          NaN       NaN     NaN       NaN        NaN       NaN\n",
       "3          NaN       NaN     NaN       NaN        NaN       NaN\n",
       "4          NaN       NaN     NaN       NaN        NaN       NaN\n",
       "...        ...       ...     ...       ...        ...       ...\n",
       "2512 -0.321001 -0.196008 -0.3030  1.488501 -14.831511  2.603499\n",
       "2513  0.098001 -5.066502 -0.3925  1.602499 -11.705525 -0.664008\n",
       "2514 -0.375999 -0.945502 -0.4735  1.089499 -10.605510  0.992997\n",
       "2515 -0.113501 -1.883996 -0.5025  0.888999 -14.957497  0.835504\n",
       "2516 -0.288001  1.823497 -0.5390  0.596499 -10.838991  1.324506\n",
       "\n",
       "[2517 rows x 6 columns]"
      ]
     },
     "execution_count": 28,
     "metadata": {},
     "output_type": "execute_result"
    }
   ],
   "source": [
    "price=pd.DataFrame()\n",
    "price[\"VZ\"]=df[\"VZ\"][\"Close\"]-df[\"VZ\"][\"MA_20\"]\n",
    "price[\"TTWO\"]=df[\"TTWO\"][\"Close\"]-df[\"TTWO\"][\"MA_20\"]\n",
    "price[\"LUMN\"]=df[\"LUMN\"][\"Close\"]-df[\"LUMN\"][\"MA_20\"]\n",
    "price[\"DISH\"]=df[\"DISH\"][\"Close\"]-df[\"DISH\"][\"MA_20\"]\n",
    "price[\"NFLX\"]=df[\"NFLX\"][\"Close\"]-df[\"NFLX\"][\"MA_20\"]\n",
    "price[\"EA\"]=df[\"EA\"][\"Close\"]-df[\"EA\"][\"MA_20\"]\n",
    "\n",
    "price"
   ]
  },
  {
   "cell_type": "markdown",
   "id": "future-prophet",
   "metadata": {
    "id": "future-prophet"
   },
   "source": [
    "# adding industry information to stock data"
   ]
  },
  {
   "cell_type": "code",
   "execution_count": 29,
   "id": "celtic-aurora",
   "metadata": {
    "colab": {
     "base_uri": "https://localhost:8080/",
     "height": 443
    },
    "id": "celtic-aurora",
    "outputId": "615686f0-4ec4-49f8-87dd-9ef356637f87"
   },
   "outputs": [
    {
     "name": "stdout",
     "output_type": "stream",
     "text": [
      "[*********************100%***********************]  1 of 1 completed\n"
     ]
    },
    {
     "data": {
      "text/html": [
       "<div>\n",
       "<style scoped>\n",
       "    .dataframe tbody tr th:only-of-type {\n",
       "        vertical-align: middle;\n",
       "    }\n",
       "\n",
       "    .dataframe tbody tr th {\n",
       "        vertical-align: top;\n",
       "    }\n",
       "\n",
       "    .dataframe thead th {\n",
       "        text-align: right;\n",
       "    }\n",
       "</style>\n",
       "<table border=\"1\" class=\"dataframe\">\n",
       "  <thead>\n",
       "    <tr style=\"text-align: right;\">\n",
       "      <th></th>\n",
       "      <th>Date</th>\n",
       "      <th>Close</th>\n",
       "      <th>Volume</th>\n",
       "      <th>sector mean of return</th>\n",
       "      <th>sector deviation of return</th>\n",
       "    </tr>\n",
       "  </thead>\n",
       "  <tbody>\n",
       "    <tr>\n",
       "      <th>0</th>\n",
       "      <td>2011-08-01</td>\n",
       "      <td>1286.939941</td>\n",
       "      <td>NaN</td>\n",
       "      <td>0.000000</td>\n",
       "      <td>0.000000</td>\n",
       "    </tr>\n",
       "    <tr>\n",
       "      <th>1</th>\n",
       "      <td>2011-08-02</td>\n",
       "      <td>1254.050049</td>\n",
       "      <td>NaN</td>\n",
       "      <td>-0.046556</td>\n",
       "      <td>0.076369</td>\n",
       "    </tr>\n",
       "    <tr>\n",
       "      <th>2</th>\n",
       "      <td>2011-08-03</td>\n",
       "      <td>1260.339966</td>\n",
       "      <td>NaN</td>\n",
       "      <td>0.006055</td>\n",
       "      <td>0.018640</td>\n",
       "    </tr>\n",
       "    <tr>\n",
       "      <th>3</th>\n",
       "      <td>2011-08-04</td>\n",
       "      <td>1200.069946</td>\n",
       "      <td>NaN</td>\n",
       "      <td>-0.054189</td>\n",
       "      <td>0.022092</td>\n",
       "    </tr>\n",
       "    <tr>\n",
       "      <th>4</th>\n",
       "      <td>2011-08-05</td>\n",
       "      <td>1199.380005</td>\n",
       "      <td>NaN</td>\n",
       "      <td>-0.007646</td>\n",
       "      <td>0.022170</td>\n",
       "    </tr>\n",
       "    <tr>\n",
       "      <th>...</th>\n",
       "      <td>...</td>\n",
       "      <td>...</td>\n",
       "      <td>...</td>\n",
       "      <td>...</td>\n",
       "      <td>...</td>\n",
       "    </tr>\n",
       "    <tr>\n",
       "      <th>2512</th>\n",
       "      <td>2021-07-26</td>\n",
       "      <td>4422.299805</td>\n",
       "      <td>0.770980</td>\n",
       "      <td>0.013205</td>\n",
       "      <td>0.016633</td>\n",
       "    </tr>\n",
       "    <tr>\n",
       "      <th>2513</th>\n",
       "      <td>2021-07-27</td>\n",
       "      <td>4401.459961</td>\n",
       "      <td>0.976411</td>\n",
       "      <td>-0.011786</td>\n",
       "      <td>0.017363</td>\n",
       "    </tr>\n",
       "    <tr>\n",
       "      <th>2514</th>\n",
       "      <td>2021-07-28</td>\n",
       "      <td>4400.640137</td>\n",
       "      <td>0.935599</td>\n",
       "      <td>0.001628</td>\n",
       "      <td>0.011939</td>\n",
       "    </tr>\n",
       "    <tr>\n",
       "      <th>2515</th>\n",
       "      <td>2021-07-29</td>\n",
       "      <td>4419.149902</td>\n",
       "      <td>0.848128</td>\n",
       "      <td>0.000772</td>\n",
       "      <td>0.011693</td>\n",
       "    </tr>\n",
       "    <tr>\n",
       "      <th>2516</th>\n",
       "      <td>2021-07-30</td>\n",
       "      <td>4395.259766</td>\n",
       "      <td>0.866957</td>\n",
       "      <td>-0.004509</td>\n",
       "      <td>0.018830</td>\n",
       "    </tr>\n",
       "  </tbody>\n",
       "</table>\n",
       "<p>2517 rows × 5 columns</p>\n",
       "</div>"
      ],
      "text/plain": [
       "           Date        Close    Volume  sector mean of return  \\\n",
       "0    2011-08-01  1286.939941       NaN               0.000000   \n",
       "1    2011-08-02  1254.050049       NaN              -0.046556   \n",
       "2    2011-08-03  1260.339966       NaN               0.006055   \n",
       "3    2011-08-04  1200.069946       NaN              -0.054189   \n",
       "4    2011-08-05  1199.380005       NaN              -0.007646   \n",
       "...         ...          ...       ...                    ...   \n",
       "2512 2021-07-26  4422.299805  0.770980               0.013205   \n",
       "2513 2021-07-27  4401.459961  0.976411              -0.011786   \n",
       "2514 2021-07-28  4400.640137  0.935599               0.001628   \n",
       "2515 2021-07-29  4419.149902  0.848128               0.000772   \n",
       "2516 2021-07-30  4395.259766  0.866957              -0.004509   \n",
       "\n",
       "      sector deviation of return  \n",
       "0                       0.000000  \n",
       "1                       0.076369  \n",
       "2                       0.018640  \n",
       "3                       0.022092  \n",
       "4                       0.022170  \n",
       "...                          ...  \n",
       "2512                    0.016633  \n",
       "2513                    0.017363  \n",
       "2514                    0.011939  \n",
       "2515                    0.011693  \n",
       "2516                    0.018830  \n",
       "\n",
       "[2517 rows x 5 columns]"
      ]
     },
     "execution_count": 29,
     "metadata": {},
     "output_type": "execute_result"
    }
   ],
   "source": [
    "data = yf.download(\"^GSPC\", period=\"10y\",\n",
    "        group_by='ticker', actions=False)\n",
    "data[\"S&P day_change\"]=data[\"Close\"]-data[\"Open\"]\n",
    "data=data[[\"Close\",\"Volume\"]]\n",
    "data.reset_index(inplace=True)\n",
    "\n",
    "\n",
    "sector_index=np.ones((len(df)))\n",
    "def calculate_return(stock):\n",
    "    stock[\"Daily return\"]=0\n",
    "    stock[\"Cumulative return\"]=100\n",
    "    stock[\"Cumulative return\"].iloc[0]=100\n",
    "    for i in range(1,len(stock)):\n",
    "        if stock[\"Close\"].iloc[i-1]>-100:\n",
    "            stock[\"Daily return\"].iloc[i]=(stock[\"Close\"].iloc[i]-stock[\"Close\"].iloc[i-1])/stock[\"Close\"].iloc[i-1]\n",
    "            stock[\"Cumulative return\"].iloc[i]=stock[\"Cumulative return\"].iloc[i-1]*(1+stock[\"Daily return\"].iloc[i])\n",
    "        else:\n",
    "            stock[\"Daily return\"].iloc[i]=0\n",
    "            stock[\"Cumulative return\"].iloc[i]=100\n",
    "    return stock\n",
    "returns=pd.DataFrame()\n",
    "for i in stock_names:\n",
    "    r=calculate_return(df[i])\n",
    "    returns[i+\" Daily return\"]=r[\"Daily return\"].copy()\n",
    "    \n",
    "data[\"sector mean of return\"]=returns.mean(axis=1)\n",
    "data[\"sector deviation of return\"]=returns.std(axis=1)\n",
    "data[\"Volume\"]=(data[\"Volume\"]/data[\"Volume\"].rolling(window=28).mean())\n",
    "\n",
    "data"
   ]
  },
  {
   "cell_type": "markdown",
   "id": "approved-xerox",
   "metadata": {},
   "source": [
    "# Exporting datasets to add to final dataset manually"
   ]
  },
  {
   "cell_type": "code",
   "execution_count": 36,
   "id": "distributed-world",
   "metadata": {},
   "outputs": [],
   "source": [
    "data.to_csv(\"data.csv\")\n",
    "price.to_csv(\"price.csv\")"
   ]
  },
  {
   "cell_type": "markdown",
   "id": "specialized-joyce",
   "metadata": {
    "id": "specialized-joyce"
   },
   "source": [
    "# Calculating correlation of stock returns with lag=1 to 10"
   ]
  },
  {
   "cell_type": "code",
   "execution_count": null,
   "id": "civil-protection",
   "metadata": {
    "id": "civil-protection",
    "outputId": "8175d2dc-dc00-4a5b-9003-d428e9362662"
   },
   "outputs": [],
   "source": [
    "import itertools\n",
    "\n",
    "comb=[]\n",
    "for subset in itertools.combinations(stock_names, 2):\n",
    "    comb.append(subset)\n",
    "u=[]\n",
    "for s in comb:\n",
    "    r=pd.DataFrame()\n",
    "    print(s)\n",
    "    for i in s:\n",
    "        r[i]=returns[i+\" Daily return\"]\n",
    "    for a in range(1,10):\n",
    "        r[s[0],a] = r[s[0]].shift(a)\n",
    "    corr_df = r.corr(method='pearson')\n",
    "    print(corr_df.iloc[2:,1].max())\n",
    "    u.append(corr_df.iloc[2:,1].max())\n",
    "\n"
   ]
  },
  {
   "cell_type": "markdown",
   "id": "affiliated-creator",
   "metadata": {
    "id": "affiliated-creator"
   },
   "source": [
    "# Convert raw volume to ratio of day's volume to average 50 days volume"
   ]
  },
  {
   "cell_type": "code",
   "execution_count": 10,
   "id": "exact-computer",
   "metadata": {
    "id": "exact-computer"
   },
   "outputs": [],
   "source": [
    "y={}\n",
    "for i in stock_names:\n",
    "    r=df[i][\"Volume\"]/df[i][\"Volume\"].rolling(window=28).mean()\n",
    "    df.drop((i, 'Volume'), axis = 1, inplace = True)\n",
    "    y[i]=pd.concat([df[i],r], axis=1)\n",
    "df=pd.concat(y, axis=1)\n"
   ]
  },
  {
   "cell_type": "markdown",
   "id": "surgical-asthma",
   "metadata": {
    "id": "surgical-asthma"
   },
   "source": [
    "# segment close price into trends"
   ]
  },
  {
   "cell_type": "code",
   "execution_count": 3,
   "id": "thirty-windsor",
   "metadata": {
    "id": "thirty-windsor"
   },
   "outputs": [],
   "source": [
    "def segments_fit(X, Y, maxcount):\n",
    "    xmin = X.min()\n",
    "    xmax = X.max()\n",
    "    \n",
    "    n = len(X)\n",
    "    \n",
    "    AIC_ = float('inf')\n",
    "    BIC_ = float('inf')\n",
    "    r_   = None\n",
    "    \n",
    "    for count in range(1, maxcount+1):\n",
    "        \n",
    "        seg = np.full(count - 1, (xmax - xmin) / count)\n",
    "\n",
    "        px_init = np.r_[np.r_[xmin, seg].cumsum(), xmax]\n",
    "        py_init = np.array([Y[np.abs(X - x) < (xmax - xmin) * 0.1].mean() for x in px_init])\n",
    "\n",
    "        def func(p):\n",
    "            seg = p[:count - 1]\n",
    "            py = p[count - 1:]\n",
    "            px = np.r_[np.r_[xmin, seg].cumsum(), xmax]\n",
    "            return px, py\n",
    "\n",
    "        def err(p): # This is RSS / n\n",
    "            px, py = func(p)\n",
    "            Y2 = np.interp(X, px, py)\n",
    "            return np.mean((Y - Y2)**2)\n",
    "\n",
    "        r = optimize.minimize(err, x0=np.r_[seg, py_init], method='Nelder-Mead')\n",
    "    \n",
    "        # Compute AIC/ BIC. \n",
    "        AIC = n * np.log10(err(r.x)) + 4 * count\n",
    "        BIC = n * np.log10(err(r.x)) + 2 * count * np.log(n)\n",
    "        \n",
    "        if((BIC < BIC_) & (AIC < AIC_)): # Continue adding complexity.\n",
    "            r_ = r\n",
    "            AIC_ = AIC\n",
    "            BIC_ = BIC\n",
    "        else: # Stop.\n",
    "            count = count - 1\n",
    "            break\n",
    "        \n",
    "    return func(r_.x) ## Return the last (n-1)"
   ]
  },
  {
   "cell_type": "code",
   "execution_count": 54,
   "id": "female-border",
   "metadata": {
    "id": "female-border"
   },
   "outputs": [],
   "source": [
    "plt.rcParams[\"figure.figsize\"] = (18, 12)\n",
    "def extract_trends(start,s,stock):\n",
    "    \n",
    "    points_x=[]\n",
    "    points_y=[]\n",
    "    start_day=start\n",
    "    end_day=2500\n",
    "    trend_interval_duration=60\n",
    "    #from where we have data to current date\n",
    "    for i in range(start_day,end_day,trend_interval_duration):\n",
    "        if i<(2500-trend_interval_duration):\n",
    "            Y=stock[\"Close\"].iloc[i:i+trend_interval_duration]\n",
    "            X=np.arange(i, i+trend_interval_duration, 1)\n",
    "        else:\n",
    "            Y=stock[\"Close\"].iloc[i:df.shape[0]]\n",
    "            X=np.arange(i,df.shape[0], 1)\n",
    "\n",
    "        points_x.append(segments_fit(X, Y, 20)[0])\n",
    "        points_y.append(segments_fit(X, Y, 20)[1])\n",
    "\n",
    "    points_x=list(chain.from_iterable(points_x))\n",
    "    points_y=list(chain.from_iterable(points_y))\n",
    "    Y=stock[\"Close\"]\n",
    "    X=np.arange(0,df.shape[0])\n",
    "    px=[]\n",
    "    py=[]\n",
    "    for i in range(len(points_x)-1):\n",
    "        if (points_x[i+1]-points_x[i])<=1:\n",
    "            px.append((points_x[i]+points_x[i+1])/2)\n",
    "            py.append((points_y[i]+points_y[i+1])/2)\n",
    "            i+=1\n",
    "        else:\n",
    "            px.append(points_x[i])\n",
    "            py.append(points_y[i])\n",
    "    px.append(points_x[-1])\n",
    "    py.append(points_y[-1])       \n",
    "    for i in range(1,len(px)):\n",
    "        if i<len(px):\n",
    "            if (px[i]-start_day)%trend_interval_duration==0:\n",
    "                del px[i]\n",
    "                del py[i]\n",
    "    return px,py\n"
   ]
  },
  {
   "cell_type": "markdown",
   "id": "persistent-soundtrack",
   "metadata": {
    "id": "persistent-soundtrack"
   },
   "source": [
    "# creat a profitability feature for every day"
   ]
  },
  {
   "cell_type": "code",
   "execution_count": 55,
   "id": "hearing-tokyo",
   "metadata": {
    "id": "hearing-tokyo"
   },
   "outputs": [],
   "source": [
    "def voteing_trend(stock):\n",
    "    trend=pd.DataFrame(df[stock][\"Close\"])\n",
    "    trend=trend.rename(columns={'Close':'position'}) \n",
    "    rgb_cycle=np.zeros((len(df[stock]),7))\n",
    "    print(stock)\n",
    "    for s in range (0,70,10):\n",
    "        print(s)\n",
    "        px,py=extract_trends(s,stock,df[stock])\n",
    "        X=np.zeros((len(px),2))\n",
    "        X[:,0]=px\n",
    "        X[:,1]=py\n",
    "        X=sorted(X, key=lambda x:x[0])\n",
    "        X=np.array(X)\n",
    "        px=X[:,0]\n",
    "        py=X[:,1]\n",
    "        slopes=[]\n",
    "        #extracting slopes of each trend and add it to dataset\n",
    "        for j in range(len(px)-1):\n",
    "            slopes.append((py[j+1]-py[j])/(px[j+1]-px[j]))\n",
    "        r=pd.cut(df['index'], bins=px, include_lowest=True, labels=slopes) \n",
    "        # exctracing position of each day in its corresponding trend\n",
    "        for j in range(s,2516):\n",
    "            trend_start=sorted(i for i in px if i <= j)[-1]\n",
    "            trend_end=sorted(i for i in px if i >= j)[0]\n",
    "            if j!=trend_start:\n",
    "                trend[\"position\"].iloc[j]=-1+2*(j-trend_start)/(trend_end-trend_start)\n",
    "            else:\n",
    "                if r[j]<r[j+1]:\n",
    "                    trend[\"position\"].iloc[j]=1\n",
    "                else:\n",
    "                    trend[\"position\"].iloc[j]=-1\n",
    "        trend[\"position\"].iloc[-1]=1 \n",
    "        #creating profiabily feature\n",
    "        for k in range(len(trend[\"position\"])):\n",
    "            rgb_cycle[k][int(s/10)]=trend[\"position\"].iloc[k]*np.sign(r.iloc[k])      \n",
    "    return rgb_cycle    "
   ]
  },
  {
   "cell_type": "markdown",
   "id": "intimate-mumbai",
   "metadata": {
    "id": "intimate-mumbai"
   },
   "source": [
    "# Calculating return of the srategy"
   ]
  },
  {
   "cell_type": "code",
   "execution_count": 56,
   "id": "conservative-ideal",
   "metadata": {
    "id": "conservative-ideal"
   },
   "outputs": [],
   "source": [
    "def calculate_return_of_strategy(threshold1,threshold2,close_list,signal_list,stock):\n",
    "\n",
    "    condlist = [(signal_list<= threshold1),(signal_list> threshold1) & (signal_list< threshold2) ,\n",
    "                (signal_list >=threshold2)]\n",
    "    choicelist = [-1,0.5, 1]\n",
    "    trade_signal = np.select(condlist, choicelist)\n",
    "    \n",
    "    portfolio=np.zeros((len(close_list),2))\n",
    "    buy_and_sell=np.zeros((len(close_list),2))\n",
    "    portfolio[:,0]=close_list\n",
    "    portfolio[:,1]=trade_signal\n",
    "    flag=True\n",
    "    for i in range(len(portfolio)):\n",
    "        if flag==True:\n",
    "            if (portfolio[i,1]==-1) :\n",
    "                buy_and_sell[i,1]=-1\n",
    "                buy_and_sell[i,0]=portfolio[i,0]\n",
    "                flag=False\n",
    "        else:        \n",
    "            if (portfolio[i,1]==1) :\n",
    "                buy_and_sell[i,1]=1 \n",
    "                buy_and_sell[i,0]=portfolio[i,0]\n",
    "                flag=True\n",
    "    buy_and_sell=buy_and_sell[buy_and_sell[:,1]!=0]\n",
    "    liq=1\n",
    "    for i in range(0,len(buy_and_sell)-1,2):\n",
    "        liq=liq*buy_and_sell[i+1,0]/buy_and_sell[i,0]\n",
    "    return liq-1\n"
   ]
  },
  {
   "cell_type": "markdown",
   "id": "fundamental-device",
   "metadata": {
    "id": "fundamental-device"
   },
   "source": [
    "# Adding signal label to dataset"
   ]
  },
  {
   "cell_type": "code",
   "execution_count": 57,
   "id": "grand-miller",
   "metadata": {
    "id": "grand-miller"
   },
   "outputs": [],
   "source": [
    "df=df.reset_index()\n",
    "def add_signal(stock):\n",
    "    init_time = time() \n",
    "\n",
    "    y=voteing_trend(stock)\n",
    "    t=y.mean(axis=1)\n",
    "    t=pd.Series(t)\n",
    "    t=-1+2*(t-t.min())/(t.max()-t.min())\n",
    "\n",
    "    threshold1_list=np.arange(-1,0,0.01)\n",
    "    threshold2_list=np.arange(0,1,0.01)\n",
    "\n",
    "    scores=np.zeros((len(threshold1_list)*len(threshold2_list),3))\n",
    "    c=0\n",
    "    for i in threshold1_list:\n",
    "        for j in threshold2_list:\n",
    "            scores[c,2]=calculate_return_of_strategy(i,j,df[stock][\"Close\"],t,stock)\n",
    "            scores[c,0]=i\n",
    "            scores[c,1]=j\n",
    "            c+=1\n",
    "    threshold1=scores[scores[:,2]==scores[:,2].max()][0][0]\n",
    "    threshold2=scores[scores[:,2]==scores[:,2].max()][0][1]\n",
    "    training_time = time() - init_time\n",
    "    condlist = [\n",
    "        (t <= threshold1),\n",
    "        (t > threshold1) & (t <= threshold2),\n",
    "        (t >threshold2)\n",
    "        ]\n",
    "    choicelist = [0,1,2]\n",
    "    labels = np.select(condlist, choicelist)\n",
    "    labels = pd.Series(labels).rename('label')\n",
    "    \n",
    "    print(\"Training time of stock {}= {:.2f}s\".format(stock,training_time))\n",
    "    print(\"return using proposed signal:{:.2f}%\".format(calculate_return_of_strategy(threshold1,threshold2,df[stock][\"Close\"],t,stock)*100))\n",
    "    print(\"return of buy and hold:{:.2f}%\".format(100*(df[stock][\"Close\"].iloc[-1]-df[stock][\"Close\"].iloc[0])/df[stock][\"Close\"].iloc[0]))\n",
    "    print()\n",
    "    return labels,threshold1,threshold2\n"
   ]
  },
  {
   "cell_type": "code",
   "execution_count": null,
   "id": "above-johnson",
   "metadata": {
    "colab": {
     "base_uri": "https://localhost:8080/"
    },
    "id": "above-johnson",
    "outputId": "7c03713b-10d8-4172-9b87-f5dcbbb905e6"
   },
   "outputs": [],
   "source": [
    "u=[\"TTWO\",\"NFLX\",\"EA\",\"DISH\",\"VZ\",\"LUMN\"]\n",
    "y={}\n",
    "for i in u:\n",
    "    r,a,b=add_signal(i)\n",
    "    y[i]=pd.concat([df[i],pd.Series(r).rename(\"signal\")], axis=1)\n",
    "    y[i].to_csv(\"1{}.csv\".format(i))\n",
    "df_labeled=pd.concat(y, axis=1)    "
   ]
  },
  {
   "cell_type": "markdown",
   "id": "statewide-level",
   "metadata": {
    "id": "statewide-level"
   },
   "source": [
    "# Plotting buy and sell positions"
   ]
  },
  {
   "cell_type": "code",
   "execution_count": 59,
   "id": "subjective-possession",
   "metadata": {},
   "outputs": [
    {
     "data": {
      "image/png": "[encoded data removed]",
      "text/plain": [
       "<Figure size 648x432 with 1 Axes>"
      ]
     },
     "metadata": {
      "needs_background": "light"
     },
     "output_type": "display_data"
    }
   ],
   "source": [
    "fig, ax = plt.subplots(figsize=(9,6))\n",
    "from matplotlib.lines import Line2D\n",
    "from matplotlib.patches import Patch\n",
    "Y=df_labeled[\"DISH\"][\"Close\"].iloc[0:]\n",
    "X=np.arange(0,2517)\n",
    "ax.scatter(X,Y, c=df_labeled[\"DISH\"][\"signal\"], s=5)\n",
    "\n",
    "legend_elements = [Line2D([0], [0], marker='o', color='w', label='No action', markerfacecolor='g', markersize=5),\n",
    "                   Line2D([0], [0], marker='o', color='w', label='Sell', markerfacecolor='y', markersize=5),\n",
    "                    Line2D([0], [0], marker='o', color='w', label='Buy', markerfacecolor='purple', markersize=5)]\n",
    "ax.legend(handles=legend_elements, loc='upper right')\n",
    "ax.set_ylabel('Price')\n",
    "fig.show()"
   ]
  },
  {
   "cell_type": "markdown",
   "id": "medium-discrimination",
   "metadata": {},
   "source": [
    "# Export dataset "
   ]
  },
  {
   "cell_type": "code",
   "execution_count": null,
   "id": "separated-scholarship",
   "metadata": {
    "id": "separated-scholarship"
   },
   "outputs": [],
   "source": [
    "for i in stock_names:\n",
    "    df_labeled[i].to_csv(\"{}1.csv\".format(i))"
   ]
  },
  {
   "cell_type": "code",
   "execution_count": null,
   "id": "configured-visiting",
   "metadata": {
    "id": "configured-visiting"
   },
   "outputs": [],
   "source": []
  }
 ],
 "metadata": {
  "colab": {
   "name": "stock marketing2.ipynb",
   "provenance": []
  },
  "kernelspec": {
   "display_name": "Python 3",
   "language": "python",
   "name": "python3"
  },
  "language_info": {
   "codemirror_mode": {
    "name": "ipython",
    "version": 3
   },
   "file_extension": ".py",
   "mimetype": "text/x-python",
   "name": "python",
   "nbconvert_exporter": "python",
   "pygments_lexer": "ipython3",
   "version": "3.9.2"
  }
 },
 "nbformat": 4,
 "nbformat_minor": 5
}
